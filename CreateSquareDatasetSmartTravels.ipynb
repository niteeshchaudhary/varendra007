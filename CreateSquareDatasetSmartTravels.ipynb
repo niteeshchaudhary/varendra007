{
  "nbformat": 4,
  "nbformat_minor": 0,
  "metadata": {
    "colab": {
      "provenance": [],
      "include_colab_link": true
    },
    "kernelspec": {
      "name": "python3",
      "display_name": "Python 3"
    },
    "language_info": {
      "name": "python"
    }
  },
  "cells": [
    {
      "cell_type": "markdown",
      "metadata": {
        "id": "view-in-github",
        "colab_type": "text"
      },
      "source": [
        "<a href=\"https://colab.research.google.com/github/niteeshchaudhary/varendra007/blob/main/CreateSquareDatasetSmartTravels.ipynb\" target=\"_parent\"><img src=\"https://colab.research.google.com/assets/colab-badge.svg\" alt=\"Open In Colab\"/></a>"
      ]
    },
    {
      "cell_type": "code",
      "execution_count": null,
      "metadata": {
        "id": "6uYqyasVVKnU"
      },
      "outputs": [],
      "source": [
        "import numpy as np\n",
        "import pandas as pd\n",
        "import matplotlib.pyplot as plt"
      ]
    },
    {
      "cell_type": "code",
      "source": [
        "x = (0.5, -0.5, -0.5, 0.5, 0.5) # I, II, III, IV, I\n",
        "y = (0.5, 0.5, -0.5, -0.5, 0.5) # I, II, III, IV, I\n",
        "plt.plot(x, y)"
      ],
      "metadata": {
        "colab": {
          "base_uri": "https://localhost:8080/",
          "height": 282
        },
        "id": "4SEas0O8Vo__",
        "outputId": "04692bac-c74c-4410-d752-2d2b15bb0466"
      },
      "execution_count": null,
      "outputs": [
        {
          "output_type": "execute_result",
          "data": {
            "text/plain": [
              "[<matplotlib.lines.Line2D at 0x7f89fadbeaf0>]"
            ]
          },
          "metadata": {},
          "execution_count": 6
        },
        {
          "output_type": "display_data",
          "data": {
            "text/plain": [
              "<Figure size 432x288 with 1 Axes>"
            ],
            "image/png": "[encoded data removed]"
          },
          "metadata": {
            "needs_background": "light"
          }
        }
      ]
    },
    {
      "cell_type": "code",
      "source": [
        "fixed = np.array([0.5]*11)\n",
        "x = np.arange(start=0.5, stop=-0.6, step=-0.1)\n",
        "y = np.arange(start=0.5, stop=-0.6, step=-0.1)\n",
        "plt.scatter(x, fixed)\n",
        "plt.scatter(x, -fixed)\n",
        "plt.scatter(fixed, y)\n",
        "plt.scatter(-fixed, y)"
      ],
      "metadata": {
        "colab": {
          "base_uri": "https://localhost:8080/",
          "height": 282
        },
        "id": "A_n6LpDGWOF7",
        "outputId": "26113f55-146d-439e-c179-9edffa736b65"
      },
      "execution_count": null,
      "outputs": [
        {
          "output_type": "execute_result",
          "data": {
            "text/plain": [
              "<matplotlib.collections.PathCollection at 0x7f89f794d7c0>"
            ]
          },
          "metadata": {},
          "execution_count": 21
        },
        {
          "output_type": "display_data",
          "data": {
            "text/plain": [
              "<Figure size 432x288 with 1 Axes>"
            ],
            "image/png": "[encoded data removed]"
          },
          "metadata": {
            "needs_background": "light"
          }
        }
      ]
    },
    {
      "cell_type": "code",
      "source": [
        "rng = np.linspace(5, -5, num=64)\n",
        "fixed = np.array([5]*len(x))\n",
        "noise = 0.3\n",
        "\n",
        "allX = []\n",
        "allY = []\n",
        "for i in range (4*40):\n",
        "    if(i % 4 == 0):\n",
        "        x = list(fixed + np.random.normal(0,noise,len(rng)))\n",
        "        y = list(rng)\n",
        "        addx = [x[-1]]*15\n",
        "        addy = [y[-1]]*15\n",
        "        allX += x+addx\n",
        "        allY += y+addy\n",
        "    elif(i % 4 == 1):\n",
        "        x = list(rng)\n",
        "        y = list(-fixed + np.random.normal(0,noise,len(rng)))\n",
        "        addx = [x[-1]]*15\n",
        "        addy = [y[-1]]*15\n",
        "        allX += x+addx\n",
        "        allY += y+addy\n",
        "    elif(i % 4 == 2):\n",
        "        x = list(-fixed + np.random.normal(0,noise,len(rng)))\n",
        "        y = list(rng)[::-1]\n",
        "        addx = [x[-1]]*15 \n",
        "        addy = [y[-1]]*15\n",
        "        allX += x+addx\n",
        "        allY += y+addy\n",
        "    elif(i % 4 == 3):\n",
        "        x = list(rng)[::-1]\n",
        "        y = list(fixed + np.random.normal(0,noise,len(rng)))\n",
        "        addx = [x[-1]]*15\n",
        "        addy = [y[-1]]*15\n",
        "        allX += x+addx\n",
        "        allY += y+addy\n",
        "\n",
        "data = []\n",
        "for i in range(len(allX)):\n",
        "    data.append(f\"{allX[i]},{allY[i]}\\n\")\n",
        "\n",
        "with open(\"square.csv\", 'w') as f:\n",
        "    f.writelines(data)"
      ],
      "metadata": {
        "id": "j1fMIjKsXI3D"
      },
      "execution_count": null,
      "outputs": []
    },
    {
      "cell_type": "code",
      "source": [
        "np.linspace(5, -5, num=64)"
      ],
      "metadata": {
        "colab": {
          "base_uri": "https://localhost:8080/"
        },
        "id": "C2jk7gQQgVfU",
        "outputId": "5c02a448-9671-475e-829c-2b43072abb03"
      },
      "execution_count": null,
      "outputs": [
        {
          "output_type": "execute_result",
          "data": {
            "text/plain": [
              "array([ 5.        ,  4.84126984,  4.68253968,  4.52380952,  4.36507937,\n",
              "        4.20634921,  4.04761905,  3.88888889,  3.73015873,  3.57142857,\n",
              "        3.41269841,  3.25396825,  3.0952381 ,  2.93650794,  2.77777778,\n",
              "        2.61904762,  2.46031746,  2.3015873 ,  2.14285714,  1.98412698,\n",
              "        1.82539683,  1.66666667,  1.50793651,  1.34920635,  1.19047619,\n",
              "        1.03174603,  0.87301587,  0.71428571,  0.55555556,  0.3968254 ,\n",
              "        0.23809524,  0.07936508, -0.07936508, -0.23809524, -0.3968254 ,\n",
              "       -0.55555556, -0.71428571, -0.87301587, -1.03174603, -1.19047619,\n",
              "       -1.34920635, -1.50793651, -1.66666667, -1.82539683, -1.98412698,\n",
              "       -2.14285714, -2.3015873 , -2.46031746, -2.61904762, -2.77777778,\n",
              "       -2.93650794, -3.0952381 , -3.25396825, -3.41269841, -3.57142857,\n",
              "       -3.73015873, -3.88888889, -4.04761905, -4.20634921, -4.36507937,\n",
              "       -4.52380952, -4.68253968, -4.84126984, -5.        ])"
            ]
          },
          "metadata": {},
          "execution_count": 83
        }
      ]
    },
    {
      "cell_type": "code",
      "source": [
        "x = np.linspace(-5, 5, num=64)\n",
        "fixed = np.array([5]*len(x))\n",
        "noise = 0.5\n",
        "\n",
        "plt.scatter(x, fixed + np.random.normal(0,noise,len(x)))\n",
        "plt.scatter(fixed + np.random.normal(0,noise,len(x)), x)\n",
        "plt.scatter(x, -fixed + np.random.normal(0,noise,len(x)))\n",
        "plt.scatter(-fixed + np.random.normal(0,noise,len(x)), x)"
      ],
      "metadata": {
        "colab": {
          "base_uri": "https://localhost:8080/",
          "height": 282
        },
        "id": "AY3o4nsKwpXI",
        "outputId": "e72b70c8-9189-4f14-dcdf-430c5934ac3f"
      },
      "execution_count": null,
      "outputs": [
        {
          "output_type": "execute_result",
          "data": {
            "text/plain": [
              "<matplotlib.collections.PathCollection at 0x7f89f572bb20>"
            ]
          },
          "metadata": {},
          "execution_count": 60
        },
        {
          "output_type": "display_data",
          "data": {
            "text/plain": [
              "<Figure size 432x288 with 1 Axes>"
            ],
            "image/png": "[encoded data removed]"
          },
          "metadata": {
            "needs_background": "light"
          }
        }
      ]
    },
    {
      "cell_type": "code",
      "source": [
        "x = np.linspace(-5, 5, num=64)\n",
        "fixed = np.array([5]*len(x))\n",
        "noise = 0.5\n",
        "X = list(x) + [x[-1]]*15 + list(fixed + np.random.normal(0,noise,len(x))) + list(x) + list(-fixed + np.random.normal(0,noise,len(x)))\n",
        "Y = list(fixed + np.random.normal(0,noise,len(x))) + [x[-1]]*15 + list(x) + list(-fixed + np.random.normal(0,noise,len(x))) + list(x)\n",
        "\n",
        "plt.scatter(X, Y)"
      ],
      "metadata": {
        "colab": {
          "base_uri": "https://localhost:8080/",
          "height": 282
        },
        "id": "_sN27zH_y_1s",
        "outputId": "1660d0f6-c558-49e9-febc-27ae3bae2dba"
      },
      "execution_count": null,
      "outputs": [
        {
          "output_type": "execute_result",
          "data": {
            "text/plain": [
              "<matplotlib.collections.PathCollection at 0x7f89f563bf40>"
            ]
          },
          "metadata": {},
          "execution_count": 68
        },
        {
          "output_type": "display_data",
          "data": {
            "text/plain": [
              "<Figure size 432x288 with 1 Axes>"
            ],
            "image/png": "[encoded data removed]"
          },
          "metadata": {
            "needs_background": "light"
          }
        }
      ]
    },
    {
      "cell_type": "code",
      "source": [
        "np.random.normal(0,0.05,len(x)) + fixed"
      ],
      "metadata": {
        "colab": {
          "base_uri": "https://localhost:8080/"
        },
        "id": "_Ha2ybBYYpnm",
        "outputId": "e50d8c70-55d0-441f-d7eb-b6b4d0b44387"
      },
      "execution_count": null,
      "outputs": [
        {
          "output_type": "execute_result",
          "data": {
            "text/plain": [
              "array([0.476501  , 0.56075805, 0.51069661, 0.49776431, 0.4891841 ,\n",
              "       0.48760374, 0.48397506, 0.4886217 , 0.52205865, 0.5413869 ,\n",
              "       0.45914933, 0.5270895 , 0.50160448, 0.5085664 , 0.45977423,\n",
              "       0.55653571])"
            ]
          },
          "metadata": {},
          "execution_count": 35
        }
      ]
    },
    {
      "cell_type": "code",
      "source": [
        "x = [1, 2,3]\n",
        "x + [2, 3]"
      ],
      "metadata": {
        "colab": {
          "base_uri": "https://localhost:8080/"
        },
        "id": "nbaBh59_lwmu",
        "outputId": "b9bdc901-bf8f-4581-e22f-cf3d25764d12"
      },
      "execution_count": null,
      "outputs": [
        {
          "output_type": "execute_result",
          "data": {
            "text/plain": [
              "[1, 2, 3, 2, 3]"
            ]
          },
          "metadata": {},
          "execution_count": 57
        }
      ]
    },
    {
      "cell_type": "code",
      "source": [
        "[x[-1]]* 8"
      ],
      "metadata": {
        "colab": {
          "base_uri": "https://localhost:8080/"
        },
        "id": "bGN15axVvI7e",
        "outputId": "2d5075a8-5513-4dfc-a683-a4621ff31596"
      },
      "execution_count": null,
      "outputs": [
        {
          "output_type": "execute_result",
          "data": {
            "text/plain": [
              "[3, 3, 3, 3, 3, 3, 3, 3]"
            ]
          },
          "metadata": {},
          "execution_count": 58
        }
      ]
    },
    {
      "cell_type": "code",
      "source": [],
      "metadata": {
        "id": "Fbv20na_vak4"
      },
      "execution_count": null,
      "outputs": []
    }
  ]
}